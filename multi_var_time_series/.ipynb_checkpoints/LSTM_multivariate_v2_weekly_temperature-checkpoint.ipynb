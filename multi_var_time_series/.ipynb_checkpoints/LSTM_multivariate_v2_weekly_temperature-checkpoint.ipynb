{
 "cells": [
  {
   "cell_type": "code",
   "execution_count": 1,
   "id": "8da86ec5",
   "metadata": {
    "executionInfo": {
     "elapsed": 2734,
     "status": "ok",
     "timestamp": 1625317288370,
     "user": {
      "displayName": "DAVID RESTREPO",
      "photoUrl": "https://lh3.googleusercontent.com/a-/AOh14GgqxItBQRJ0dDzIdCZM0BMuA0KeTKTlKRNGMApY=s64",
      "userId": "09638303782015555303"
     },
     "user_tz": 300
    },
    "id": "8da86ec5"
   },
   "outputs": [
    {
     "name": "stdout",
     "output_type": "stream",
     "text": [
      "Init Plugin\n",
      "Init Graph Optimizer\n",
      "Init Kernel\n"
     ]
    }
   ],
   "source": [
    "import pandas as pd\n",
    "from sklearn import preprocessing\n",
    "import tensorflow as tf\n",
    "from tensorflow import keras\n",
    "from tensorflow.keras import Sequential, layers, callbacks\n",
    "from tensorflow.keras.layers import Dense, LSTM, Dropout, GRU, Bidirectional\n",
    "import numpy as np\n",
    "\n",
    "import matplotlib.pyplot as plt"
   ]
  },
  {
   "cell_type": "code",
   "execution_count": 2,
   "id": "4ddf9dbf",
   "metadata": {},
   "outputs": [
    {
     "name": "stdout",
     "output_type": "stream",
     "text": [
      "GPU is available\n"
     ]
    }
   ],
   "source": [
    "# See if GPU is aviable\n",
    "import tensorflow as tf\n",
    "\n",
    "gpu = len(tf.config.list_physical_devices('GPU'))>0\n",
    "print(\"GPU is\", \"available\" if gpu else \"NOT AVAILABLE\")"
   ]
  },
  {
   "cell_type": "code",
   "execution_count": 4,
   "id": "lxt7_uXJKXrK",
   "metadata": {
    "colab": {
     "base_uri": "https://localhost:8080/",
     "height": 609
    },
    "executionInfo": {
     "elapsed": 790,
     "status": "ok",
     "timestamp": 1625317313463,
     "user": {
      "displayName": "DAVID RESTREPO",
      "photoUrl": "https://lh3.googleusercontent.com/a-/AOh14GgqxItBQRJ0dDzIdCZM0BMuA0KeTKTlKRNGMApY=s64",
      "userId": "09638303782015555303"
     },
     "user_tz": 300
    },
    "id": "lxt7_uXJKXrK",
    "outputId": "1e119a71-292e-4244-c08b-ca89bd72a557"
   },
   "outputs": [
    {
     "data": {
      "text/html": [
       "<div>\n",
       "<style scoped>\n",
       "    .dataframe tbody tr th:only-of-type {\n",
       "        vertical-align: middle;\n",
       "    }\n",
       "\n",
       "    .dataframe tbody tr th {\n",
       "        vertical-align: top;\n",
       "    }\n",
       "\n",
       "    .dataframe thead th {\n",
       "        text-align: right;\n",
       "    }\n",
       "</style>\n",
       "<table border=\"1\" class=\"dataframe\">\n",
       "  <thead>\n",
       "    <tr style=\"text-align: right;\">\n",
       "      <th></th>\n",
       "      <th>cases_medellin</th>\n",
       "      <th>DATA</th>\n",
       "      <th>YEAR</th>\n",
       "      <th>YearWeek</th>\n",
       "      <th>LastDayWeek</th>\n",
       "      <th>MONTH</th>\n",
       "      <th>percipitation_medellin</th>\n",
       "      <th>percipitation_medellin_rural</th>\n",
       "      <th>percipitation_medellin_urbano</th>\n",
       "      <th>temperature</th>\n",
       "    </tr>\n",
       "  </thead>\n",
       "  <tbody>\n",
       "    <tr>\n",
       "      <th>0</th>\n",
       "      <td>1</td>\n",
       "      <td>['2007', 'w01']</td>\n",
       "      <td>2007</td>\n",
       "      <td>200701</td>\n",
       "      <td>2007-01-06</td>\n",
       "      <td>1</td>\n",
       "      <td>13.096688</td>\n",
       "      <td>14.097693</td>\n",
       "      <td>12.628933</td>\n",
       "      <td>19.615357</td>\n",
       "    </tr>\n",
       "    <tr>\n",
       "      <th>1</th>\n",
       "      <td>0</td>\n",
       "      <td>['2007', 'w02']</td>\n",
       "      <td>2007</td>\n",
       "      <td>200702</td>\n",
       "      <td>2007-01-13</td>\n",
       "      <td>1</td>\n",
       "      <td>8.437044</td>\n",
       "      <td>6.910390</td>\n",
       "      <td>9.067214</td>\n",
       "      <td>22.234000</td>\n",
       "    </tr>\n",
       "    <tr>\n",
       "      <th>2</th>\n",
       "      <td>0</td>\n",
       "      <td>['2007', 'w03']</td>\n",
       "      <td>2007</td>\n",
       "      <td>200703</td>\n",
       "      <td>2007-01-20</td>\n",
       "      <td>1</td>\n",
       "      <td>19.373165</td>\n",
       "      <td>21.616968</td>\n",
       "      <td>18.406665</td>\n",
       "      <td>22.268857</td>\n",
       "    </tr>\n",
       "    <tr>\n",
       "      <th>3</th>\n",
       "      <td>0</td>\n",
       "      <td>['2007', 'w04']</td>\n",
       "      <td>2007</td>\n",
       "      <td>200704</td>\n",
       "      <td>2007-01-27</td>\n",
       "      <td>1</td>\n",
       "      <td>0.000000</td>\n",
       "      <td>0.000000</td>\n",
       "      <td>0.000000</td>\n",
       "      <td>23.546000</td>\n",
       "    </tr>\n",
       "    <tr>\n",
       "      <th>4</th>\n",
       "      <td>0</td>\n",
       "      <td>['2007', 'w05']</td>\n",
       "      <td>2007</td>\n",
       "      <td>200705</td>\n",
       "      <td>2007-02-03</td>\n",
       "      <td>2</td>\n",
       "      <td>3.725206</td>\n",
       "      <td>3.144225</td>\n",
       "      <td>3.901021</td>\n",
       "      <td>25.353071</td>\n",
       "    </tr>\n",
       "    <tr>\n",
       "      <th>...</th>\n",
       "      <td>...</td>\n",
       "      <td>...</td>\n",
       "      <td>...</td>\n",
       "      <td>...</td>\n",
       "      <td>...</td>\n",
       "      <td>...</td>\n",
       "      <td>...</td>\n",
       "      <td>...</td>\n",
       "      <td>...</td>\n",
       "      <td>...</td>\n",
       "    </tr>\n",
       "    <tr>\n",
       "      <th>619</th>\n",
       "      <td>28</td>\n",
       "      <td>['2018', 'w48']</td>\n",
       "      <td>2018</td>\n",
       "      <td>201848</td>\n",
       "      <td>2018-12-01</td>\n",
       "      <td>12</td>\n",
       "      <td>8.916642</td>\n",
       "      <td>8.656351</td>\n",
       "      <td>9.114419</td>\n",
       "      <td>21.436857</td>\n",
       "    </tr>\n",
       "    <tr>\n",
       "      <th>620</th>\n",
       "      <td>12</td>\n",
       "      <td>['2018', 'w49']</td>\n",
       "      <td>2018</td>\n",
       "      <td>201849</td>\n",
       "      <td>2018-12-08</td>\n",
       "      <td>12</td>\n",
       "      <td>17.006086</td>\n",
       "      <td>16.076869</td>\n",
       "      <td>17.334870</td>\n",
       "      <td>22.156286</td>\n",
       "    </tr>\n",
       "    <tr>\n",
       "      <th>621</th>\n",
       "      <td>27</td>\n",
       "      <td>['2018', 'w50']</td>\n",
       "      <td>2018</td>\n",
       "      <td>201850</td>\n",
       "      <td>2018-12-15</td>\n",
       "      <td>12</td>\n",
       "      <td>5.673248</td>\n",
       "      <td>5.388778</td>\n",
       "      <td>5.794555</td>\n",
       "      <td>17.271000</td>\n",
       "    </tr>\n",
       "    <tr>\n",
       "      <th>622</th>\n",
       "      <td>17</td>\n",
       "      <td>['2018', 'w51']</td>\n",
       "      <td>2018</td>\n",
       "      <td>201851</td>\n",
       "      <td>2018-12-22</td>\n",
       "      <td>12</td>\n",
       "      <td>2.785103</td>\n",
       "      <td>2.708024</td>\n",
       "      <td>2.810241</td>\n",
       "      <td>19.071071</td>\n",
       "    </tr>\n",
       "    <tr>\n",
       "      <th>623</th>\n",
       "      <td>17</td>\n",
       "      <td>['2018', 'w52']</td>\n",
       "      <td>2018</td>\n",
       "      <td>201852</td>\n",
       "      <td>2018-12-29</td>\n",
       "      <td>12</td>\n",
       "      <td>0.000000</td>\n",
       "      <td>0.000000</td>\n",
       "      <td>0.000000</td>\n",
       "      <td>23.723143</td>\n",
       "    </tr>\n",
       "  </tbody>\n",
       "</table>\n",
       "<p>624 rows × 10 columns</p>\n",
       "</div>"
      ],
      "text/plain": [
       "     cases_medellin             DATA  YEAR  YearWeek LastDayWeek  MONTH  \\\n",
       "0                 1  ['2007', 'w01']  2007    200701  2007-01-06      1   \n",
       "1                 0  ['2007', 'w02']  2007    200702  2007-01-13      1   \n",
       "2                 0  ['2007', 'w03']  2007    200703  2007-01-20      1   \n",
       "3                 0  ['2007', 'w04']  2007    200704  2007-01-27      1   \n",
       "4                 0  ['2007', 'w05']  2007    200705  2007-02-03      2   \n",
       "..              ...              ...   ...       ...         ...    ...   \n",
       "619              28  ['2018', 'w48']  2018    201848  2018-12-01     12   \n",
       "620              12  ['2018', 'w49']  2018    201849  2018-12-08     12   \n",
       "621              27  ['2018', 'w50']  2018    201850  2018-12-15     12   \n",
       "622              17  ['2018', 'w51']  2018    201851  2018-12-22     12   \n",
       "623              17  ['2018', 'w52']  2018    201852  2018-12-29     12   \n",
       "\n",
       "     percipitation_medellin  percipitation_medellin_rural  \\\n",
       "0                 13.096688                     14.097693   \n",
       "1                  8.437044                      6.910390   \n",
       "2                 19.373165                     21.616968   \n",
       "3                  0.000000                      0.000000   \n",
       "4                  3.725206                      3.144225   \n",
       "..                      ...                           ...   \n",
       "619                8.916642                      8.656351   \n",
       "620               17.006086                     16.076869   \n",
       "621                5.673248                      5.388778   \n",
       "622                2.785103                      2.708024   \n",
       "623                0.000000                      0.000000   \n",
       "\n",
       "     percipitation_medellin_urbano  temperature  \n",
       "0                        12.628933    19.615357  \n",
       "1                         9.067214    22.234000  \n",
       "2                        18.406665    22.268857  \n",
       "3                         0.000000    23.546000  \n",
       "4                         3.901021    25.353071  \n",
       "..                             ...          ...  \n",
       "619                       9.114419    21.436857  \n",
       "620                      17.334870    22.156286  \n",
       "621                       5.794555    17.271000  \n",
       "622                       2.810241    19.071071  \n",
       "623                       0.000000    23.723143  \n",
       "\n",
       "[624 rows x 10 columns]"
      ]
     },
     "execution_count": 4,
     "metadata": {},
     "output_type": "execute_result"
    }
   ],
   "source": [
    "# Read Data\n",
    "merge_cases_temp_precip = pd.read_csv('../Data/merge_cases_WeeklyTemperature_WeeklyPrecipitation_timeseries.csv')\n",
    "# Remove extra column\n",
    "merge_cases_temp_precip.drop(columns=['Unnamed: 0'], axis=1, inplace=True)\n",
    "merge_cases_temp_precip.LastDayWeek = pd.to_datetime(merge_cases_temp_precip.LastDayWeek)\n",
    "merge_cases_temp_precip"
   ]
  },
  {
   "cell_type": "markdown",
   "id": "JDVHbhn9zGhb",
   "metadata": {
    "id": "JDVHbhn9zGhb"
   },
   "source": [
    "# Time Series"
   ]
  },
  {
   "cell_type": "markdown",
   "id": "zxNDtkPwhKJt",
   "metadata": {
    "id": "zxNDtkPwhKJt"
   },
   "source": [
    "## Data visualization"
   ]
  },
  {
   "cell_type": "code",
   "execution_count": 5,
   "id": "6d55f16d",
   "metadata": {
    "colab": {
     "base_uri": "https://localhost:8080/",
     "height": 497
    },
    "executionInfo": {
     "elapsed": 12,
     "status": "ok",
     "timestamp": 1625317313464,
     "user": {
      "displayName": "DAVID RESTREPO",
      "photoUrl": "https://lh3.googleusercontent.com/a-/AOh14GgqxItBQRJ0dDzIdCZM0BMuA0KeTKTlKRNGMApY=s64",
      "userId": "09638303782015555303"
     },
     "user_tz": 300
    },
    "id": "6d55f16d",
    "outputId": "89ed7899-90bf-4dff-a41b-9e2f2d2aa910"
   },
   "outputs": [
    {
     "data": {
      "image/png": "[encoded data removed]",
      "text/plain": [
       "<Figure size 864x576 with 1 Axes>"
      ]
     },
     "metadata": {
      "needs_background": "light"
     },
     "output_type": "display_data"
    }
   ],
   "source": [
    "# Dengue cases in time\n",
    "def timeseries (x_axis, y_axis, x_label):\n",
    "    plt.figure(figsize = (12, 8))\n",
    "    plt.plot(x_axis, y_axis, color ='black')\n",
    "    plt.xlabel(x_label) \n",
    "    plt.ylabel('Dengue Cases')\n",
    "\n",
    "timeseries(merge_cases_temp_precip['LastDayWeek'], merge_cases_temp_precip['cases_medellin'], 'cases by Week')"
   ]
  },
  {
   "cell_type": "markdown",
   "id": "3be7476a",
   "metadata": {
    "id": "3be7476a"
   },
   "source": [
    "## DataSet"
   ]
  },
  {
   "cell_type": "code",
   "execution_count": 13,
   "id": "b3934515",
   "metadata": {
    "colab": {
     "base_uri": "https://localhost:8080/",
     "height": 450
    },
    "executionInfo": {
     "elapsed": 11,
     "status": "ok",
     "timestamp": 1625317313465,
     "user": {
      "displayName": "DAVID RESTREPO",
      "photoUrl": "https://lh3.googleusercontent.com/a-/AOh14GgqxItBQRJ0dDzIdCZM0BMuA0KeTKTlKRNGMApY=s64",
      "userId": "09638303782015555303"
     },
     "user_tz": 300
    },
    "id": "b3934515",
    "outputId": "6da015f2-7c83-4c67-b931-30866f6f91a9"
   },
   "outputs": [
    {
     "data": {
      "text/html": [
       "<div>\n",
       "<style scoped>\n",
       "    .dataframe tbody tr th:only-of-type {\n",
       "        vertical-align: middle;\n",
       "    }\n",
       "\n",
       "    .dataframe tbody tr th {\n",
       "        vertical-align: top;\n",
       "    }\n",
       "\n",
       "    .dataframe thead th {\n",
       "        text-align: right;\n",
       "    }\n",
       "</style>\n",
       "<table border=\"1\" class=\"dataframe\">\n",
       "  <thead>\n",
       "    <tr style=\"text-align: right;\">\n",
       "      <th></th>\n",
       "      <th>temperature</th>\n",
       "      <th>percipitation_medellin</th>\n",
       "      <th>cases_medellin</th>\n",
       "    </tr>\n",
       "    <tr>\n",
       "      <th>LastDayWeek</th>\n",
       "      <th></th>\n",
       "      <th></th>\n",
       "      <th></th>\n",
       "    </tr>\n",
       "  </thead>\n",
       "  <tbody>\n",
       "    <tr>\n",
       "      <th>2007-01-06</th>\n",
       "      <td>19.615357</td>\n",
       "      <td>13.096688</td>\n",
       "      <td>1</td>\n",
       "    </tr>\n",
       "    <tr>\n",
       "      <th>2007-01-13</th>\n",
       "      <td>22.234000</td>\n",
       "      <td>8.437044</td>\n",
       "      <td>0</td>\n",
       "    </tr>\n",
       "    <tr>\n",
       "      <th>2007-01-20</th>\n",
       "      <td>22.268857</td>\n",
       "      <td>19.373165</td>\n",
       "      <td>0</td>\n",
       "    </tr>\n",
       "    <tr>\n",
       "      <th>2007-01-27</th>\n",
       "      <td>23.546000</td>\n",
       "      <td>0.000000</td>\n",
       "      <td>0</td>\n",
       "    </tr>\n",
       "    <tr>\n",
       "      <th>2007-02-03</th>\n",
       "      <td>25.353071</td>\n",
       "      <td>3.725206</td>\n",
       "      <td>0</td>\n",
       "    </tr>\n",
       "    <tr>\n",
       "      <th>...</th>\n",
       "      <td>...</td>\n",
       "      <td>...</td>\n",
       "      <td>...</td>\n",
       "    </tr>\n",
       "    <tr>\n",
       "      <th>2018-12-01</th>\n",
       "      <td>21.436857</td>\n",
       "      <td>8.916642</td>\n",
       "      <td>28</td>\n",
       "    </tr>\n",
       "    <tr>\n",
       "      <th>2018-12-08</th>\n",
       "      <td>22.156286</td>\n",
       "      <td>17.006086</td>\n",
       "      <td>12</td>\n",
       "    </tr>\n",
       "    <tr>\n",
       "      <th>2018-12-15</th>\n",
       "      <td>17.271000</td>\n",
       "      <td>5.673248</td>\n",
       "      <td>27</td>\n",
       "    </tr>\n",
       "    <tr>\n",
       "      <th>2018-12-22</th>\n",
       "      <td>19.071071</td>\n",
       "      <td>2.785103</td>\n",
       "      <td>17</td>\n",
       "    </tr>\n",
       "    <tr>\n",
       "      <th>2018-12-29</th>\n",
       "      <td>23.723143</td>\n",
       "      <td>0.000000</td>\n",
       "      <td>17</td>\n",
       "    </tr>\n",
       "  </tbody>\n",
       "</table>\n",
       "<p>624 rows × 3 columns</p>\n",
       "</div>"
      ],
      "text/plain": [
       "             temperature  percipitation_medellin  cases_medellin\n",
       "LastDayWeek                                                     \n",
       "2007-01-06     19.615357               13.096688               1\n",
       "2007-01-13     22.234000                8.437044               0\n",
       "2007-01-20     22.268857               19.373165               0\n",
       "2007-01-27     23.546000                0.000000               0\n",
       "2007-02-03     25.353071                3.725206               0\n",
       "...                  ...                     ...             ...\n",
       "2018-12-01     21.436857                8.916642              28\n",
       "2018-12-08     22.156286               17.006086              12\n",
       "2018-12-15     17.271000                5.673248              27\n",
       "2018-12-22     19.071071                2.785103              17\n",
       "2018-12-29     23.723143                0.000000              17\n",
       "\n",
       "[624 rows x 3 columns]"
      ]
     },
     "execution_count": 13,
     "metadata": {},
     "output_type": "execute_result"
    }
   ],
   "source": [
    "dataset = merge_cases_temp_precip[['temperature','percipitation_medellin','cases_medellin']]\n",
    "dataset.index = merge_cases_temp_precip.LastDayWeek\n",
    "dataset  #DF"
   ]
  },
  {
   "cell_type": "markdown",
   "id": "JeddvRFhkTnY",
   "metadata": {
    "id": "JeddvRFhkTnY"
   },
   "source": [
    "# Prepare data to supervised learning time series"
   ]
  },
  {
   "cell_type": "markdown",
   "id": "LFsBjJYWhZaQ",
   "metadata": {
    "id": "LFsBjJYWhZaQ"
   },
   "source": [
    "we will use:\n",
    "* data: is the dataframe in our case (Dengue Cases, Precipitation and Temperature)\n",
    "* n_in: is the number of lag weeks in the past (length of window)\n",
    "\n",
    "The heart of this \"series_to_supervised\" function is the <a href=\"https://pandas.pydata.org/pandas-docs/stable/reference/api/pandas.DataFrame.shift.html\">shift</a> fuction of pandas\n",
    "\n",
    "This function gets as input the number of periods(in this case the number of weeks represented as rows up or down in the dataframe) to move the columns of a dataframe.\n",
    "E.g. \n",
    "* If we have merge_cases_temp_precip['cases_medellin'].shift(1) all the rows of column cases_medellin will move one row down\n",
    "* If we have merge_cases_temp_precip['cases_medellin'].shift(-1) all the rows of column cases_medellin will move one row up\n"
   ]
  },
  {
   "cell_type": "code",
   "execution_count": 14,
   "id": "BH5JesTNkW1V",
   "metadata": {
    "executionInfo": {
     "elapsed": 386,
     "status": "ok",
     "timestamp": 1625317313842,
     "user": {
      "displayName": "DAVID RESTREPO",
      "photoUrl": "https://lh3.googleusercontent.com/a-/AOh14GgqxItBQRJ0dDzIdCZM0BMuA0KeTKTlKRNGMApY=s64",
      "userId": "09638303782015555303"
     },
     "user_tz": 300
    },
    "id": "BH5JesTNkW1V"
   },
   "outputs": [],
   "source": [
    "# prepare data for lstm\n",
    "from pandas import read_csv\n",
    "from pandas import DataFrame\n",
    "from pandas import concat\n",
    "from sklearn.preprocessing import MinMaxScaler\n",
    "\n",
    "# convert series to supervised learning\n",
    "def series_to_supervised(data, n_in=1, n_out=1, dropnan=True):\n",
    "\tn_vars = 1 if type(data) is list else data.shape[1]\n",
    "\tdf = DataFrame(data)\n",
    "\tcols, names = list(), list()\n",
    "\t# input sequence (t-n, ... t-1)\n",
    "\tfor i in range(n_in, 0, -1):\n",
    "\t\tcols.append(df.shift(i))\n",
    "\t\tnames += [('var%d(t-%d)' % (j+1, i)) for j in range(n_vars)]\n",
    "\t# forecast sequence (t, t+1, ... t+n)\n",
    "\tfor i in range(0, n_out):\n",
    "\t\tcols.append(df.shift(-i))\n",
    "\t\tif i == 0:\n",
    "\t\t\tnames += [('var%d(t)' % (j+1)) for j in range(n_vars)]\n",
    "\t\telse:\n",
    "\t\t\tnames += [('var%d(t+%d)' % (j+1, i)) for j in range(n_vars)]\n",
    "\t# put it all together\n",
    "\tagg = concat(cols, axis=1)\n",
    "\tagg.columns = names\n",
    "\t# drop rows with NaN values\n",
    "\tif dropnan:\n",
    "\t\tagg.dropna(inplace=True)\n",
    "\treturn agg\n",
    " "
   ]
  },
  {
   "cell_type": "markdown",
   "id": "4hM9aJnekTOF",
   "metadata": {
    "id": "4hM9aJnekTOF"
   },
   "source": [
    "### normalize features\n",
    "As we are working with a Neural Network the data values ​​must be normalized to help backpropagation algorithm\n",
    "So we will use the <a href=\"https://scikit-learn.org/stable/modules/generated/sklearn.preprocessing.MinMaxScaler.html\">MinMaxScaler</a> from sklearn"
   ]
  },
  {
   "cell_type": "code",
   "execution_count": 15,
   "id": "gq1acAcggdew",
   "metadata": {
    "executionInfo": {
     "elapsed": 32,
     "status": "ok",
     "timestamp": 1625317313842,
     "user": {
      "displayName": "DAVID RESTREPO",
      "photoUrl": "https://lh3.googleusercontent.com/a-/AOh14GgqxItBQRJ0dDzIdCZM0BMuA0KeTKTlKRNGMApY=s64",
      "userId": "09638303782015555303"
     },
     "user_tz": 300
    },
    "id": "gq1acAcggdew"
   },
   "outputs": [],
   "source": [
    "scaler = MinMaxScaler(feature_range=(0, 1)) # Scaler between 0 and 1\n",
    "scaled = scaler.fit_transform(dataset) # As we can see data set has 3 Columns (This shape is also important for inverse scaler as we will see in future)"
   ]
  },
  {
   "cell_type": "code",
   "execution_count": 16,
   "id": "HhBFNwjskQ0u",
   "metadata": {
    "colab": {
     "base_uri": "https://localhost:8080/",
     "height": 241
    },
    "executionInfo": {
     "elapsed": 32,
     "status": "ok",
     "timestamp": 1625317313843,
     "user": {
      "displayName": "DAVID RESTREPO",
      "photoUrl": "https://lh3.googleusercontent.com/a-/AOh14GgqxItBQRJ0dDzIdCZM0BMuA0KeTKTlKRNGMApY=s64",
      "userId": "09638303782015555303"
     },
     "user_tz": 300
    },
    "id": "HhBFNwjskQ0u",
    "outputId": "51d0b826-fa10-4193-8cbc-c222813928e9"
   },
   "outputs": [
    {
     "data": {
      "text/html": [
       "<div>\n",
       "<style scoped>\n",
       "    .dataframe tbody tr th:only-of-type {\n",
       "        vertical-align: middle;\n",
       "    }\n",
       "\n",
       "    .dataframe tbody tr th {\n",
       "        vertical-align: top;\n",
       "    }\n",
       "\n",
       "    .dataframe thead th {\n",
       "        text-align: right;\n",
       "    }\n",
       "</style>\n",
       "<table border=\"1\" class=\"dataframe\">\n",
       "  <thead>\n",
       "    <tr style=\"text-align: right;\">\n",
       "      <th></th>\n",
       "      <th>var1(t-10)</th>\n",
       "      <th>var2(t-10)</th>\n",
       "      <th>var3(t-10)</th>\n",
       "      <th>var1(t-9)</th>\n",
       "      <th>var2(t-9)</th>\n",
       "      <th>var3(t-9)</th>\n",
       "      <th>var1(t-8)</th>\n",
       "      <th>var2(t-8)</th>\n",
       "      <th>var3(t-8)</th>\n",
       "      <th>var1(t-7)</th>\n",
       "      <th>...</th>\n",
       "      <th>var3(t-3)</th>\n",
       "      <th>var1(t-2)</th>\n",
       "      <th>var2(t-2)</th>\n",
       "      <th>var3(t-2)</th>\n",
       "      <th>var1(t-1)</th>\n",
       "      <th>var2(t-1)</th>\n",
       "      <th>var3(t-1)</th>\n",
       "      <th>var1(t)</th>\n",
       "      <th>var2(t)</th>\n",
       "      <th>var3(t)</th>\n",
       "    </tr>\n",
       "  </thead>\n",
       "  <tbody>\n",
       "    <tr>\n",
       "      <th>10</th>\n",
       "      <td>0.320885</td>\n",
       "      <td>0.103033</td>\n",
       "      <td>0.00122</td>\n",
       "      <td>0.494782</td>\n",
       "      <td>0.066375</td>\n",
       "      <td>0.0</td>\n",
       "      <td>0.497097</td>\n",
       "      <td>0.152411</td>\n",
       "      <td>0.0</td>\n",
       "      <td>0.581909</td>\n",
       "      <td>...</td>\n",
       "      <td>0.0</td>\n",
       "      <td>0.789821</td>\n",
       "      <td>0.251632</td>\n",
       "      <td>0.0</td>\n",
       "      <td>0.815364</td>\n",
       "      <td>0.194133</td>\n",
       "      <td>0.00000</td>\n",
       "      <td>0.794574</td>\n",
       "      <td>0.339599</td>\n",
       "      <td>0.00000</td>\n",
       "    </tr>\n",
       "    <tr>\n",
       "      <th>11</th>\n",
       "      <td>0.494782</td>\n",
       "      <td>0.066375</td>\n",
       "      <td>0.00000</td>\n",
       "      <td>0.497097</td>\n",
       "      <td>0.152411</td>\n",
       "      <td>0.0</td>\n",
       "      <td>0.581909</td>\n",
       "      <td>0.000000</td>\n",
       "      <td>0.0</td>\n",
       "      <td>0.701912</td>\n",
       "      <td>...</td>\n",
       "      <td>0.0</td>\n",
       "      <td>0.815364</td>\n",
       "      <td>0.194133</td>\n",
       "      <td>0.0</td>\n",
       "      <td>0.794574</td>\n",
       "      <td>0.339599</td>\n",
       "      <td>0.00000</td>\n",
       "      <td>0.768328</td>\n",
       "      <td>0.287922</td>\n",
       "      <td>0.00000</td>\n",
       "    </tr>\n",
       "    <tr>\n",
       "      <th>12</th>\n",
       "      <td>0.497097</td>\n",
       "      <td>0.152411</td>\n",
       "      <td>0.00000</td>\n",
       "      <td>0.581909</td>\n",
       "      <td>0.000000</td>\n",
       "      <td>0.0</td>\n",
       "      <td>0.701912</td>\n",
       "      <td>0.029307</td>\n",
       "      <td>0.0</td>\n",
       "      <td>0.697818</td>\n",
       "      <td>...</td>\n",
       "      <td>0.0</td>\n",
       "      <td>0.794574</td>\n",
       "      <td>0.339599</td>\n",
       "      <td>0.0</td>\n",
       "      <td>0.768328</td>\n",
       "      <td>0.287922</td>\n",
       "      <td>0.00000</td>\n",
       "      <td>0.147306</td>\n",
       "      <td>0.718713</td>\n",
       "      <td>0.00000</td>\n",
       "    </tr>\n",
       "    <tr>\n",
       "      <th>13</th>\n",
       "      <td>0.581909</td>\n",
       "      <td>0.000000</td>\n",
       "      <td>0.00000</td>\n",
       "      <td>0.701912</td>\n",
       "      <td>0.029307</td>\n",
       "      <td>0.0</td>\n",
       "      <td>0.697818</td>\n",
       "      <td>0.095100</td>\n",
       "      <td>0.0</td>\n",
       "      <td>0.659809</td>\n",
       "      <td>...</td>\n",
       "      <td>0.0</td>\n",
       "      <td>0.768328</td>\n",
       "      <td>0.287922</td>\n",
       "      <td>0.0</td>\n",
       "      <td>0.147306</td>\n",
       "      <td>0.718713</td>\n",
       "      <td>0.00000</td>\n",
       "      <td>0.517551</td>\n",
       "      <td>0.456353</td>\n",
       "      <td>0.00122</td>\n",
       "    </tr>\n",
       "    <tr>\n",
       "      <th>14</th>\n",
       "      <td>0.701912</td>\n",
       "      <td>0.029307</td>\n",
       "      <td>0.00000</td>\n",
       "      <td>0.697818</td>\n",
       "      <td>0.095100</td>\n",
       "      <td>0.0</td>\n",
       "      <td>0.659809</td>\n",
       "      <td>0.011560</td>\n",
       "      <td>0.0</td>\n",
       "      <td>0.740010</td>\n",
       "      <td>...</td>\n",
       "      <td>0.0</td>\n",
       "      <td>0.147306</td>\n",
       "      <td>0.718713</td>\n",
       "      <td>0.0</td>\n",
       "      <td>0.517551</td>\n",
       "      <td>0.456353</td>\n",
       "      <td>0.00122</td>\n",
       "      <td>0.733517</td>\n",
       "      <td>0.371302</td>\n",
       "      <td>0.00000</td>\n",
       "    </tr>\n",
       "  </tbody>\n",
       "</table>\n",
       "<p>5 rows × 33 columns</p>\n",
       "</div>"
      ],
      "text/plain": [
       "    var1(t-10)  var2(t-10)  var3(t-10)  var1(t-9)  var2(t-9)  var3(t-9)  \\\n",
       "10    0.320885    0.103033     0.00122   0.494782   0.066375        0.0   \n",
       "11    0.494782    0.066375     0.00000   0.497097   0.152411        0.0   \n",
       "12    0.497097    0.152411     0.00000   0.581909   0.000000        0.0   \n",
       "13    0.581909    0.000000     0.00000   0.701912   0.029307        0.0   \n",
       "14    0.701912    0.029307     0.00000   0.697818   0.095100        0.0   \n",
       "\n",
       "    var1(t-8)  var2(t-8)  var3(t-8)  var1(t-7)  ...  var3(t-3)  var1(t-2)  \\\n",
       "10   0.497097   0.152411        0.0   0.581909  ...        0.0   0.789821   \n",
       "11   0.581909   0.000000        0.0   0.701912  ...        0.0   0.815364   \n",
       "12   0.701912   0.029307        0.0   0.697818  ...        0.0   0.794574   \n",
       "13   0.697818   0.095100        0.0   0.659809  ...        0.0   0.768328   \n",
       "14   0.659809   0.011560        0.0   0.740010  ...        0.0   0.147306   \n",
       "\n",
       "    var2(t-2)  var3(t-2)  var1(t-1)  var2(t-1)  var3(t-1)   var1(t)   var2(t)  \\\n",
       "10   0.251632        0.0   0.815364   0.194133    0.00000  0.794574  0.339599   \n",
       "11   0.194133        0.0   0.794574   0.339599    0.00000  0.768328  0.287922   \n",
       "12   0.339599        0.0   0.768328   0.287922    0.00000  0.147306  0.718713   \n",
       "13   0.287922        0.0   0.147306   0.718713    0.00000  0.517551  0.456353   \n",
       "14   0.718713        0.0   0.517551   0.456353    0.00122  0.733517  0.371302   \n",
       "\n",
       "    var3(t)  \n",
       "10  0.00000  \n",
       "11  0.00000  \n",
       "12  0.00000  \n",
       "13  0.00122  \n",
       "14  0.00000  \n",
       "\n",
       "[5 rows x 33 columns]"
      ]
     },
     "execution_count": 16,
     "metadata": {},
     "output_type": "execute_result"
    }
   ],
   "source": [
    "# length of window\n",
    "weeks = 10\n",
    "\n",
    "# frame as supervised learning\n",
    "data = series_to_supervised(scaled, n_in=weeks)\n",
    "DataFrame(data).head()"
   ]
  },
  {
   "cell_type": "markdown",
   "id": "Uss0IPaQqnWB",
   "metadata": {
    "id": "Uss0IPaQqnWB"
   },
   "source": [
    "## Features Set"
   ]
  },
  {
   "cell_type": "code",
   "execution_count": 17,
   "id": "eWFelunOgdml",
   "metadata": {
    "colab": {
     "base_uri": "https://localhost:8080/"
    },
    "executionInfo": {
     "elapsed": 31,
     "status": "ok",
     "timestamp": 1625317313843,
     "user": {
      "displayName": "DAVID RESTREPO",
      "photoUrl": "https://lh3.googleusercontent.com/a-/AOh14GgqxItBQRJ0dDzIdCZM0BMuA0KeTKTlKRNGMApY=s64",
      "userId": "09638303782015555303"
     },
     "user_tz": 300
    },
    "id": "eWFelunOgdml",
    "outputId": "b7aa5b76-6d78-406f-d713-fa066de429b5"
   },
   "outputs": [
    {
     "data": {
      "text/plain": [
       "array([[0.32088512, 0.10303316, 0.00121951, ..., 0.81536382, 0.19413316,\n",
       "        0.        ],\n",
       "       [0.49478228, 0.0663752 , 0.        , ..., 0.79457357, 0.33959896,\n",
       "        0.        ],\n",
       "       [0.49709705, 0.15241093, 0.        , ..., 0.76832843, 0.28792167,\n",
       "        0.        ],\n",
       "       ...,\n",
       "       [0.51656864, 0.60463713, 0.03292683, ..., 0.48962148, 0.13378884,\n",
       "        0.01463415],\n",
       "       [0.52421497, 0.20007748, 0.02804878, ..., 0.16520254, 0.0446321 ,\n",
       "        0.03292683],\n",
       "       [0.51958543, 0.3982439 , 0.02926829, ..., 0.28474054, 0.02191073,\n",
       "        0.02073171]])"
      ]
     },
     "execution_count": 17,
     "metadata": {},
     "output_type": "execute_result"
    }
   ],
   "source": [
    "# We define the number of features as 3 (Temperature, Precipitation and Dengue Cases)\n",
    "n_features = 3\n",
    "# The features to train the model will be all except the values of the actual week \n",
    "# We can't use the temperature and precipitation in week t because whe need to resample a a 3D Array\n",
    "features_set = DataFrame(data.values[:,:-n_features])\n",
    "# Convert pandas data frame to np.array to reshape as 3D Array\n",
    "features_set = features_set.to_numpy()\n",
    "features_set"
   ]
  },
  {
   "cell_type": "markdown",
   "id": "ojvAeBMPr3ol",
   "metadata": {
    "id": "ojvAeBMPr3ol"
   },
   "source": [
    "## Labels Set"
   ]
  },
  {
   "cell_type": "code",
   "execution_count": 18,
   "id": "q4jhxnI5gdqz",
   "metadata": {
    "colab": {
     "base_uri": "https://localhost:8080/"
    },
    "executionInfo": {
     "elapsed": 30,
     "status": "ok",
     "timestamp": 1625317313844,
     "user": {
      "displayName": "DAVID RESTREPO",
      "photoUrl": "https://lh3.googleusercontent.com/a-/AOh14GgqxItBQRJ0dDzIdCZM0BMuA0KeTKTlKRNGMApY=s64",
      "userId": "09638303782015555303"
     },
     "user_tz": 300
    },
    "id": "q4jhxnI5gdqz",
    "outputId": "8575301d-eecd-441a-b190-f8f7df84e935"
   },
   "outputs": [
    {
     "data": {
      "text/plain": [
       "array([[0.        ],\n",
       "       [0.        ],\n",
       "       [0.        ],\n",
       "       [0.00121951],\n",
       "       [0.        ],\n",
       "       [0.        ],\n",
       "       [0.        ],\n",
       "       [0.00121951],\n",
       "       [0.        ],\n",
       "       [0.        ],\n",
       "       [0.        ],\n",
       "       [0.        ],\n",
       "       [0.        ],\n",
       "       [0.        ],\n",
       "       [0.        ],\n",
       "       [0.        ],\n",
       "       [0.        ],\n",
       "       [0.00121951],\n",
       "       [0.        ],\n",
       "       [0.        ],\n",
       "       [0.        ],\n",
       "       [0.        ],\n",
       "       [0.        ],\n",
       "       [0.        ],\n",
       "       [0.        ],\n",
       "       [0.        ],\n",
       "       [0.        ],\n",
       "       [0.        ],\n",
       "       [0.        ],\n",
       "       [0.        ],\n",
       "       [0.        ],\n",
       "       [0.        ],\n",
       "       [0.        ],\n",
       "       [0.        ],\n",
       "       [0.        ],\n",
       "       [0.        ],\n",
       "       [0.        ],\n",
       "       [0.        ],\n",
       "       [0.        ],\n",
       "       [0.        ],\n",
       "       [0.        ],\n",
       "       [0.00121951],\n",
       "       [0.03170732],\n",
       "       [0.02926829],\n",
       "       [0.02560976],\n",
       "       [0.02195122],\n",
       "       [0.01829268],\n",
       "       [0.02073171],\n",
       "       [0.02073171],\n",
       "       [0.02195122],\n",
       "       [0.02682927],\n",
       "       [0.0304878 ],\n",
       "       [0.0195122 ],\n",
       "       [0.01829268],\n",
       "       [0.02439024],\n",
       "       [0.0195122 ],\n",
       "       [0.02073171],\n",
       "       [0.02195122],\n",
       "       [0.01463415],\n",
       "       [0.0195122 ],\n",
       "       [0.01463415],\n",
       "       [0.02317073],\n",
       "       [0.01463415],\n",
       "       [0.02439024],\n",
       "       [0.02560976],\n",
       "       [0.02804878],\n",
       "       [0.01829268],\n",
       "       [0.01585366],\n",
       "       [0.00853659],\n",
       "       [0.01829268],\n",
       "       [0.01829268],\n",
       "       [0.02073171],\n",
       "       [0.01219512],\n",
       "       [0.01829268],\n",
       "       [0.02560976],\n",
       "       [0.01463415],\n",
       "       [0.02804878],\n",
       "       [0.0195122 ],\n",
       "       [0.02682927],\n",
       "       [0.01707317],\n",
       "       [0.0195122 ],\n",
       "       [0.02195122],\n",
       "       [0.02682927],\n",
       "       [0.02317073],\n",
       "       [0.01829268],\n",
       "       [0.0304878 ],\n",
       "       [0.02804878],\n",
       "       [0.01219512],\n",
       "       [0.02317073],\n",
       "       [0.01829268],\n",
       "       [0.02073171],\n",
       "       [0.01585366],\n",
       "       [0.02317073],\n",
       "       [0.0195122 ],\n",
       "       [0.00487805],\n",
       "       [0.00487805],\n",
       "       [0.00365854],\n",
       "       [0.00243902],\n",
       "       [0.00365854],\n",
       "       [0.00121951],\n",
       "       [0.00121951],\n",
       "       [0.00365854],\n",
       "       [0.00121951],\n",
       "       [0.00121951],\n",
       "       [0.00243902],\n",
       "       [0.00487805],\n",
       "       [0.        ],\n",
       "       [0.00243902],\n",
       "       [0.00365854],\n",
       "       [0.00243902],\n",
       "       [0.        ],\n",
       "       [0.00121951],\n",
       "       [0.        ],\n",
       "       [0.00609756],\n",
       "       [0.00609756],\n",
       "       [0.00609756],\n",
       "       [0.00853659],\n",
       "       [0.00731707],\n",
       "       [0.00365854],\n",
       "       [0.00731707],\n",
       "       [0.00853659],\n",
       "       [0.0097561 ],\n",
       "       [0.00609756],\n",
       "       [0.00731707],\n",
       "       [0.00731707],\n",
       "       [0.00609756],\n",
       "       [0.01707317],\n",
       "       [0.01219512],\n",
       "       [0.01219512],\n",
       "       [0.00853659],\n",
       "       [0.00731707],\n",
       "       [0.01219512],\n",
       "       [0.0304878 ],\n",
       "       [0.02439024],\n",
       "       [0.02195122],\n",
       "       [0.01829268],\n",
       "       [0.01585366],\n",
       "       [0.01341463],\n",
       "       [0.01585366],\n",
       "       [0.01829268],\n",
       "       [0.01463415],\n",
       "       [0.03170732],\n",
       "       [0.0195122 ],\n",
       "       [0.02926829],\n",
       "       [0.02560976],\n",
       "       [0.0195122 ],\n",
       "       [0.03658537],\n",
       "       [0.04390244],\n",
       "       [0.04512195],\n",
       "       [0.05609756],\n",
       "       [0.10121951],\n",
       "       [0.10121951],\n",
       "       [0.11707317],\n",
       "       [0.11585366],\n",
       "       [0.1402439 ],\n",
       "       [0.13414634],\n",
       "       [0.16585366],\n",
       "       [0.16219512],\n",
       "       [0.20487805],\n",
       "       [0.28536585],\n",
       "       [0.38292683],\n",
       "       [0.54268293],\n",
       "       [0.62317073],\n",
       "       [0.68536585],\n",
       "       [0.78658537],\n",
       "       [0.89146341],\n",
       "       [0.85243902],\n",
       "       [0.89512195],\n",
       "       [1.        ],\n",
       "       [0.95365854],\n",
       "       [0.79878049],\n",
       "       [0.79390244],\n",
       "       [0.69756098],\n",
       "       [0.65487805],\n",
       "       [0.63658537],\n",
       "       [0.54512195],\n",
       "       [0.65365854],\n",
       "       [0.60121951],\n",
       "       [0.60121951],\n",
       "       [0.54634146],\n",
       "       [0.49878049],\n",
       "       [0.42317073],\n",
       "       [0.32073171],\n",
       "       [0.35365854],\n",
       "       [0.25487805],\n",
       "       [0.2       ],\n",
       "       [0.20243902],\n",
       "       [0.15487805],\n",
       "       [0.14756098],\n",
       "       [0.09756098],\n",
       "       [0.10853659],\n",
       "       [0.08170732],\n",
       "       [0.05121951],\n",
       "       [0.05365854],\n",
       "       [0.05609756],\n",
       "       [0.05731707],\n",
       "       [0.0402439 ],\n",
       "       [0.03292683],\n",
       "       [0.04634146],\n",
       "       [0.03536585],\n",
       "       [0.03536585],\n",
       "       [0.03170732],\n",
       "       [0.02317073],\n",
       "       [0.01707317],\n",
       "       [0.01585366],\n",
       "       [0.01707317],\n",
       "       [0.02317073],\n",
       "       [0.01707317],\n",
       "       [0.01097561],\n",
       "       [0.01707317],\n",
       "       [0.00853659],\n",
       "       [0.01829268],\n",
       "       [0.02195122],\n",
       "       [0.0195122 ],\n",
       "       [0.0195122 ],\n",
       "       [0.01097561],\n",
       "       [0.01463415],\n",
       "       [0.01829268],\n",
       "       [0.02682927],\n",
       "       [0.01707317],\n",
       "       [0.02682927],\n",
       "       [0.02195122],\n",
       "       [0.02195122],\n",
       "       [0.02560976],\n",
       "       [0.03170732],\n",
       "       [0.02317073],\n",
       "       [0.01341463],\n",
       "       [0.01097561],\n",
       "       [0.0195122 ],\n",
       "       [0.01463415],\n",
       "       [0.01463415],\n",
       "       [0.01829268],\n",
       "       [0.02439024],\n",
       "       [0.01097561],\n",
       "       [0.01219512],\n",
       "       [0.01707317],\n",
       "       [0.01707317],\n",
       "       [0.00853659],\n",
       "       [0.01707317],\n",
       "       [0.01463415],\n",
       "       [0.01097561],\n",
       "       [0.01463415],\n",
       "       [0.00731707],\n",
       "       [0.00853659],\n",
       "       [0.01341463],\n",
       "       [0.01097561],\n",
       "       [0.01707317],\n",
       "       [0.01707317],\n",
       "       [0.02073171],\n",
       "       [0.02682927],\n",
       "       [0.0195122 ],\n",
       "       [0.01707317],\n",
       "       [0.02195122],\n",
       "       [0.01463415],\n",
       "       [0.01585366],\n",
       "       [0.0097561 ],\n",
       "       [0.00487805],\n",
       "       [0.01463415],\n",
       "       [0.01829268],\n",
       "       [0.01707317],\n",
       "       [0.0195122 ],\n",
       "       [0.01585366],\n",
       "       [0.0097561 ],\n",
       "       [0.02195122],\n",
       "       [0.01219512],\n",
       "       [0.01097561],\n",
       "       [0.01219512],\n",
       "       [0.01219512],\n",
       "       [0.01829268],\n",
       "       [0.01585366],\n",
       "       [0.01097561],\n",
       "       [0.01097561],\n",
       "       [0.02317073],\n",
       "       [0.0097561 ],\n",
       "       [0.01829268],\n",
       "       [0.01585366],\n",
       "       [0.01585366],\n",
       "       [0.01585366],\n",
       "       [0.01585366],\n",
       "       [0.01829268],\n",
       "       [0.01463415],\n",
       "       [0.01585366],\n",
       "       [0.01585366],\n",
       "       [0.02073171],\n",
       "       [0.01219512],\n",
       "       [0.02926829],\n",
       "       [0.02195122],\n",
       "       [0.02195122],\n",
       "       [0.01829268],\n",
       "       [0.0195122 ],\n",
       "       [0.02560976],\n",
       "       [0.02682927],\n",
       "       [0.01829268],\n",
       "       [0.01707317],\n",
       "       [0.01707317],\n",
       "       [0.01463415],\n",
       "       [0.0195122 ],\n",
       "       [0.0304878 ],\n",
       "       [0.01219512],\n",
       "       [0.02073171],\n",
       "       [0.01341463],\n",
       "       [0.00609756],\n",
       "       [0.03536585],\n",
       "       [0.05609756],\n",
       "       [0.03780488],\n",
       "       [0.04512195],\n",
       "       [0.05      ],\n",
       "       [0.05      ],\n",
       "       [0.03902439],\n",
       "       [0.04756098],\n",
       "       [0.06097561],\n",
       "       [0.05243902],\n",
       "       [0.05609756],\n",
       "       [0.06341463],\n",
       "       [0.04634146],\n",
       "       [0.07073171],\n",
       "       [0.07195122],\n",
       "       [0.06463415],\n",
       "       [0.05853659],\n",
       "       [0.05487805],\n",
       "       [0.05      ],\n",
       "       [0.07560976],\n",
       "       [0.05609756],\n",
       "       [0.07317073],\n",
       "       [0.07439024],\n",
       "       [0.0804878 ],\n",
       "       [0.08292683],\n",
       "       [0.05609756],\n",
       "       [0.06219512],\n",
       "       [0.07682927],\n",
       "       [0.05487805],\n",
       "       [0.05609756],\n",
       "       [0.03658537],\n",
       "       [0.05      ],\n",
       "       [0.05365854],\n",
       "       [0.06585366],\n",
       "       [0.04390244],\n",
       "       [0.04878049],\n",
       "       [0.04146341],\n",
       "       [0.04756098],\n",
       "       [0.05      ],\n",
       "       [0.05243902],\n",
       "       [0.05121951],\n",
       "       [0.05853659],\n",
       "       [0.05853659],\n",
       "       [0.04878049],\n",
       "       [0.05853659],\n",
       "       [0.04512195],\n",
       "       [0.05609756],\n",
       "       [0.05      ],\n",
       "       [0.04634146],\n",
       "       [0.05853659],\n",
       "       [0.04634146],\n",
       "       [0.02804878],\n",
       "       [0.0597561 ],\n",
       "       [0.0695122 ],\n",
       "       [0.07439024],\n",
       "       [0.07195122],\n",
       "       [0.04756098],\n",
       "       [0.04634146],\n",
       "       [0.04878049],\n",
       "       [0.0402439 ],\n",
       "       [0.03658537],\n",
       "       [0.0304878 ],\n",
       "       [0.04512195],\n",
       "       [0.03902439],\n",
       "       [0.03536585],\n",
       "       [0.04146341],\n",
       "       [0.03902439],\n",
       "       [0.03292683],\n",
       "       [0.05243902],\n",
       "       [0.05365854],\n",
       "       [0.04268293],\n",
       "       [0.03536585],\n",
       "       [0.03536585],\n",
       "       [0.03414634],\n",
       "       [0.05487805],\n",
       "       [0.05365854],\n",
       "       [0.03780488],\n",
       "       [0.05365854],\n",
       "       [0.09390244],\n",
       "       [0.06829268],\n",
       "       [0.08414634],\n",
       "       [0.09268293],\n",
       "       [0.13658537],\n",
       "       [0.11829268],\n",
       "       [0.1195122 ],\n",
       "       [0.1       ],\n",
       "       [0.10731707],\n",
       "       [0.15365854],\n",
       "       [0.15      ],\n",
       "       [0.14268293],\n",
       "       [0.13658537],\n",
       "       [0.11707317],\n",
       "       [0.11585366],\n",
       "       [0.08292683],\n",
       "       [0.10853659],\n",
       "       [0.09268293],\n",
       "       [0.08292683],\n",
       "       [0.08292683],\n",
       "       [0.0695122 ],\n",
       "       [0.05365854],\n",
       "       [0.0902439 ],\n",
       "       [0.07439024],\n",
       "       [0.09146341],\n",
       "       [0.07682927],\n",
       "       [0.12682927],\n",
       "       [0.09146341],\n",
       "       [0.07073171],\n",
       "       [0.0597561 ],\n",
       "       [0.06707317],\n",
       "       [0.04512195],\n",
       "       [0.04878049],\n",
       "       [0.03780488],\n",
       "       [0.05487805],\n",
       "       [0.03292683],\n",
       "       [0.04146341],\n",
       "       [0.04390244],\n",
       "       [0.03780488],\n",
       "       [0.04146341],\n",
       "       [0.03780488],\n",
       "       [0.02317073],\n",
       "       [0.0195122 ],\n",
       "       [0.03658537],\n",
       "       [0.03414634],\n",
       "       [0.03658537],\n",
       "       [0.02926829],\n",
       "       [0.03170732],\n",
       "       [0.05487805],\n",
       "       [0.0695122 ],\n",
       "       [0.04634146],\n",
       "       [0.08414634],\n",
       "       [0.07926829],\n",
       "       [0.06341463],\n",
       "       [0.08536585],\n",
       "       [0.05609756],\n",
       "       [0.0597561 ],\n",
       "       [0.07073171],\n",
       "       [0.08902439],\n",
       "       [0.08780488],\n",
       "       [0.08170732],\n",
       "       [0.12682927],\n",
       "       [0.12804878],\n",
       "       [0.14512195],\n",
       "       [0.14390244],\n",
       "       [0.12560976],\n",
       "       [0.14146341],\n",
       "       [0.15731707],\n",
       "       [0.15      ],\n",
       "       [0.12560976],\n",
       "       [0.14756098],\n",
       "       [0.12804878],\n",
       "       [0.11829268],\n",
       "       [0.16463415],\n",
       "       [0.15853659],\n",
       "       [0.17926829],\n",
       "       [0.22926829],\n",
       "       [0.2695122 ],\n",
       "       [0.28658537],\n",
       "       [0.33414634],\n",
       "       [0.30731707],\n",
       "       [0.3195122 ],\n",
       "       [0.33414634],\n",
       "       [0.32439024],\n",
       "       [0.28536585],\n",
       "       [0.31463415],\n",
       "       [0.56585366],\n",
       "       [0.5695122 ],\n",
       "       [0.57804878],\n",
       "       [0.62804878],\n",
       "       [0.64268293],\n",
       "       [0.64268293],\n",
       "       [0.62682927],\n",
       "       [0.72195122],\n",
       "       [0.64146341],\n",
       "       [0.56219512],\n",
       "       [0.58292683],\n",
       "       [0.61097561],\n",
       "       [0.59512195],\n",
       "       [0.65731707],\n",
       "       [0.56829268],\n",
       "       [0.48780488],\n",
       "       [0.46097561],\n",
       "       [0.41707317],\n",
       "       [0.4       ],\n",
       "       [0.43170732],\n",
       "       [0.32073171],\n",
       "       [0.3195122 ],\n",
       "       [0.31097561],\n",
       "       [0.27560976],\n",
       "       [0.22560976],\n",
       "       [0.22439024],\n",
       "       [0.23414634],\n",
       "       [0.22073171],\n",
       "       [0.17439024],\n",
       "       [0.14146341],\n",
       "       [0.15121951],\n",
       "       [0.14878049],\n",
       "       [0.13414634],\n",
       "       [0.10853659],\n",
       "       [0.12073171],\n",
       "       [0.09512195],\n",
       "       [0.08414634],\n",
       "       [0.0695122 ],\n",
       "       [0.06341463],\n",
       "       [0.05731707],\n",
       "       [0.06219512],\n",
       "       [0.06097561],\n",
       "       [0.05853659],\n",
       "       [0.04878049],\n",
       "       [0.05121951],\n",
       "       [0.05      ],\n",
       "       [0.06829268],\n",
       "       [0.05243902],\n",
       "       [0.0695122 ],\n",
       "       [0.04634146],\n",
       "       [0.04512195],\n",
       "       [0.04878049],\n",
       "       [0.05609756],\n",
       "       [0.05731707],\n",
       "       [0.05121951],\n",
       "       [0.0402439 ],\n",
       "       [0.04756098],\n",
       "       [0.02926829],\n",
       "       [0.04634146],\n",
       "       [0.06219512],\n",
       "       [0.06097561],\n",
       "       [0.04634146],\n",
       "       [0.04390244],\n",
       "       [0.04634146],\n",
       "       [0.03292683],\n",
       "       [0.01707317],\n",
       "       [0.05365854],\n",
       "       [0.03536585],\n",
       "       [0.03780488],\n",
       "       [0.04756098],\n",
       "       [0.04512195],\n",
       "       [0.05121951],\n",
       "       [0.03780488],\n",
       "       [0.03536585],\n",
       "       [0.03292683],\n",
       "       [0.03292683],\n",
       "       [0.02926829],\n",
       "       [0.03292683],\n",
       "       [0.02682927],\n",
       "       [0.03414634],\n",
       "       [0.02560976],\n",
       "       [0.03658537],\n",
       "       [0.01707317],\n",
       "       [0.02682927],\n",
       "       [0.02317073],\n",
       "       [0.0195122 ],\n",
       "       [0.04268293],\n",
       "       [0.03170732],\n",
       "       [0.03170732],\n",
       "       [0.03658537],\n",
       "       [0.02682927],\n",
       "       [0.02804878],\n",
       "       [0.02560976],\n",
       "       [0.0304878 ],\n",
       "       [0.02682927],\n",
       "       [0.01707317],\n",
       "       [0.02926829],\n",
       "       [0.02439024],\n",
       "       [0.02926829],\n",
       "       [0.02682927],\n",
       "       [0.02682927],\n",
       "       [0.02439024],\n",
       "       [0.02926829],\n",
       "       [0.02439024],\n",
       "       [0.02560976],\n",
       "       [0.02073171],\n",
       "       [0.02317073],\n",
       "       [0.02804878],\n",
       "       [0.02682927],\n",
       "       [0.02804878],\n",
       "       [0.02804878],\n",
       "       [0.03292683],\n",
       "       [0.04268293],\n",
       "       [0.02682927],\n",
       "       [0.02317073],\n",
       "       [0.02439024],\n",
       "       [0.02682927],\n",
       "       [0.02195122],\n",
       "       [0.0304878 ],\n",
       "       [0.03292683],\n",
       "       [0.0304878 ],\n",
       "       [0.01463415],\n",
       "       [0.02682927],\n",
       "       [0.02682927],\n",
       "       [0.03292683],\n",
       "       [0.02804878],\n",
       "       [0.02926829],\n",
       "       [0.02926829],\n",
       "       [0.02073171],\n",
       "       [0.02439024],\n",
       "       [0.01829268],\n",
       "       [0.05      ],\n",
       "       [0.03414634],\n",
       "       [0.01463415],\n",
       "       [0.03292683],\n",
       "       [0.02073171],\n",
       "       [0.02073171]])"
      ]
     },
     "execution_count": 18,
     "metadata": {},
     "output_type": "execute_result"
    }
   ],
   "source": [
    "# We will use Dengue cases in last week \n",
    "labels_set = DataFrame(data.values[:,-1])\n",
    "# Convert pandas data frame to np.array\n",
    "labels_set = labels_set.to_numpy()\n",
    "labels_set"
   ]
  },
  {
   "cell_type": "markdown",
   "id": "RlwXfwaLsHza",
   "metadata": {
    "id": "RlwXfwaLsHza"
   },
   "source": [
    "## Train Test Split"
   ]
  },
  {
   "cell_type": "code",
   "execution_count": 19,
   "id": "-sb-9LCMgdwr",
   "metadata": {
    "executionInfo": {
     "elapsed": 28,
     "status": "ok",
     "timestamp": 1625317313844,
     "user": {
      "displayName": "DAVID RESTREPO",
      "photoUrl": "https://lh3.googleusercontent.com/a-/AOh14GgqxItBQRJ0dDzIdCZM0BMuA0KeTKTlKRNGMApY=s64",
      "userId": "09638303782015555303"
     },
     "user_tz": 300
    },
    "id": "-sb-9LCMgdwr"
   },
   "outputs": [],
   "source": [
    "# We need a sequence so we can't split randomly\n",
    "# To divide into Train (90%) and test (10%) to do that we need to know the 90% of the total dataframe\n",
    "size = features_set.shape[0]\n",
    "split = int(size*(9/10))"
   ]
  },
  {
   "cell_type": "markdown",
   "id": "_2LNWDMusZsl",
   "metadata": {
    "id": "_2LNWDMusZsl"
   },
   "source": [
    "### train"
   ]
  },
  {
   "cell_type": "code",
   "execution_count": 20,
   "id": "FJan_zurgd1q",
   "metadata": {
    "executionInfo": {
     "elapsed": 28,
     "status": "ok",
     "timestamp": 1625317313845,
     "user": {
      "displayName": "DAVID RESTREPO",
      "photoUrl": "https://lh3.googleusercontent.com/a-/AOh14GgqxItBQRJ0dDzIdCZM0BMuA0KeTKTlKRNGMApY=s64",
      "userId": "09638303782015555303"
     },
     "user_tz": 300
    },
    "id": "FJan_zurgd1q"
   },
   "outputs": [],
   "source": [
    "# We will train with 1st 90% of data and test with last 10%\n",
    "train_X = features_set[:split] ##90% train\n",
    "train_y = labels_set[:split]  ##90% train"
   ]
  },
  {
   "cell_type": "markdown",
   "id": "t17j8OtzemAG",
   "metadata": {
    "id": "t17j8OtzemAG"
   },
   "source": [
    "### test"
   ]
  },
  {
   "cell_type": "code",
   "execution_count": 21,
   "id": "DS6rGhy5gd7B",
   "metadata": {
    "executionInfo": {
     "elapsed": 28,
     "status": "ok",
     "timestamp": 1625317313845,
     "user": {
      "displayName": "DAVID RESTREPO",
      "photoUrl": "https://lh3.googleusercontent.com/a-/AOh14GgqxItBQRJ0dDzIdCZM0BMuA0KeTKTlKRNGMApY=s64",
      "userId": "09638303782015555303"
     },
     "user_tz": 300
    },
    "id": "DS6rGhy5gd7B"
   },
   "outputs": [],
   "source": [
    "test_X = features_set[split:] ##10% test\n",
    "test_y = labels_set[split:] ##10% test"
   ]
  },
  {
   "cell_type": "markdown",
   "id": "UExWrkq9Ib_J",
   "metadata": {
    "id": "UExWrkq9Ib_J"
   },
   "source": [
    "## Reshape"
   ]
  },
  {
   "cell_type": "code",
   "execution_count": 22,
   "id": "G1xmvWGQgeDB",
   "metadata": {
    "colab": {
     "base_uri": "https://localhost:8080/"
    },
    "executionInfo": {
     "elapsed": 27,
     "status": "ok",
     "timestamp": 1625317313845,
     "user": {
      "displayName": "DAVID RESTREPO",
      "photoUrl": "https://lh3.googleusercontent.com/a-/AOh14GgqxItBQRJ0dDzIdCZM0BMuA0KeTKTlKRNGMApY=s64",
      "userId": "09638303782015555303"
     },
     "user_tz": 300
    },
    "id": "G1xmvWGQgeDB",
    "outputId": "9d0fddc4-3864-4047-cb25-0f87bb404b7c"
   },
   "outputs": [
    {
     "name": "stdout",
     "output_type": "stream",
     "text": [
      "(542, 10, 3) (542, 1) (61, 10, 3) (61, 1)\n"
     ]
    }
   ],
   "source": [
    "# reshape input to be 3D [samples, timesteps, features]\n",
    "train_X = train_X.reshape((train_X.shape[0], weeks, n_features))\n",
    "test_X = test_X.reshape((test_X.shape[0], weeks, n_features))\n",
    "print(train_X.shape, train_y.shape, test_X.shape, test_y.shape)"
   ]
  },
  {
   "cell_type": "markdown",
   "id": "ac223af3",
   "metadata": {
    "id": "ac223af3"
   },
   "source": [
    "## Model"
   ]
  },
  {
   "cell_type": "markdown",
   "id": "h5ZtewNE5vXX",
   "metadata": {
    "id": "h5ZtewNE5vXX"
   },
   "source": [
    "### LSTM"
   ]
  },
  {
   "cell_type": "code",
   "execution_count": 23,
   "id": "wPD_nuIfgeK9",
   "metadata": {
    "executionInfo": {
     "elapsed": 595,
     "status": "ok",
     "timestamp": 1625317314419,
     "user": {
      "displayName": "DAVID RESTREPO",
      "photoUrl": "https://lh3.googleusercontent.com/a-/AOh14GgqxItBQRJ0dDzIdCZM0BMuA0KeTKTlKRNGMApY=s64",
      "userId": "09638303782015555303"
     },
     "user_tz": 300
    },
    "id": "wPD_nuIfgeK9"
   },
   "outputs": [
    {
     "name": "stdout",
     "output_type": "stream",
     "text": [
      "Metal device set to: Apple M1\n",
      "WARNING:tensorflow:Layer lstm will not use cuDNN kernels since it doesn't meet the criteria. It will use a generic GPU kernel as fallback when running on GPU.\n",
      "WARNING:tensorflow:Layer lstm_1 will not use cuDNN kernels since it doesn't meet the criteria. It will use a generic GPU kernel as fallback when running on GPU.\n"
     ]
    },
    {
     "name": "stderr",
     "output_type": "stream",
     "text": [
      "2021-09-10 12:48:21.600564: I tensorflow/core/common_runtime/pluggable_device/pluggable_device_factory.cc:305] Could not identify NUMA node of platform GPU ID 0, defaulting to 0. Your kernel may not have been built with NUMA support.\n",
      "2021-09-10 12:48:21.601211: I tensorflow/core/common_runtime/pluggable_device/pluggable_device_factory.cc:271] Created TensorFlow device (/job:localhost/replica:0/task:0/device:GPU:0 with 0 MB memory) -> physical PluggableDevice (device: 0, name: METAL, pci bus id: <undefined>)\n"
     ]
    }
   ],
   "source": [
    "# Set Seed\n",
    "tf.random.set_seed(1)\n",
    "\n",
    "model = Sequential()\n",
    "model.add(LSTM(128, activation='relu', input_shape=(train_X.shape[1], train_X.shape[2]), return_sequences=True))\n",
    "model.add(LSTM(32, activation='relu', return_sequences=False))\n",
    "model.add(Dropout(0.2))\n",
    "model.add(Dense(1))\n",
    "\n",
    "model.compile(optimizer='adam', loss='mae')"
   ]
  },
  {
   "cell_type": "code",
   "execution_count": 24,
   "id": "CRKoVYEqmcav",
   "metadata": {
    "colab": {
     "base_uri": "https://localhost:8080/"
    },
    "executionInfo": {
     "elapsed": 5925,
     "status": "ok",
     "timestamp": 1625317320340,
     "user": {
      "displayName": "DAVID RESTREPO",
      "photoUrl": "https://lh3.googleusercontent.com/a-/AOh14GgqxItBQRJ0dDzIdCZM0BMuA0KeTKTlKRNGMApY=s64",
      "userId": "09638303782015555303"
     },
     "user_tz": 300
    },
    "id": "CRKoVYEqmcav",
    "outputId": "abca9a8a-e6a4-46ec-da6d-91605b9a8e9b"
   },
   "outputs": [
    {
     "name": "stdout",
     "output_type": "stream",
     "text": [
      "Epoch 1/15\n"
     ]
    },
    {
     "name": "stderr",
     "output_type": "stream",
     "text": [
      "2021-09-10 12:48:21.841439: I tensorflow/compiler/mlir/mlir_graph_optimization_pass.cc:176] None of the MLIR Optimization Passes are enabled (registered 2)\n",
      "2021-09-10 12:48:21.844614: W tensorflow/core/platform/profile_utils/cpu_utils.cc:128] Failed to get CPU frequency: 0 Hz\n",
      "2021-09-10 12:48:22.341929: I tensorflow/core/grappler/optimizers/custom_graph_optimizer_registry.cc:112] Plugin optimizer for device_type GPU is enabled.\n"
     ]
    },
    {
     "name": "stdout",
     "output_type": "stream",
     "text": [
      "31/31 [==============================] - 8s 218ms/step - loss: 0.0620 - val_loss: 0.0236\n"
     ]
    },
    {
     "name": "stderr",
     "output_type": "stream",
     "text": [
      "2021-09-10 12:48:29.419758: I tensorflow/core/grappler/optimizers/custom_graph_optimizer_registry.cc:112] Plugin optimizer for device_type GPU is enabled.\n"
     ]
    },
    {
     "name": "stdout",
     "output_type": "stream",
     "text": [
      "Epoch 2/15\n",
      "31/31 [==============================] - 7s 209ms/step - loss: 0.0419 - val_loss: 0.0345\n",
      "Epoch 3/15\n",
      "31/31 [==============================] - 7s 217ms/step - loss: 0.0354 - val_loss: 0.0317\n",
      "Epoch 4/15\n",
      "31/31 [==============================] - 6s 209ms/step - loss: 0.0324 - val_loss: 0.0260\n",
      "Epoch 5/15\n",
      "31/31 [==============================] - 7s 212ms/step - loss: 0.0315 - val_loss: 0.0323\n",
      "Epoch 6/15\n",
      "31/31 [==============================] - 7s 219ms/step - loss: 0.0282 - val_loss: 0.0261\n",
      "Epoch 7/15\n",
      "31/31 [==============================] - 7s 219ms/step - loss: 0.0281 - val_loss: 0.0211\n",
      "Epoch 8/15\n",
      "31/31 [==============================] - 6s 209ms/step - loss: 0.0269 - val_loss: 0.0223\n",
      "Epoch 9/15\n",
      "31/31 [==============================] - 7s 211ms/step - loss: 0.0259 - val_loss: 0.0486\n",
      "Epoch 10/15\n",
      "31/31 [==============================] - 7s 213ms/step - loss: 0.0276 - val_loss: 0.0314\n",
      "Epoch 11/15\n",
      "31/31 [==============================] - 7s 210ms/step - loss: 0.0282 - val_loss: 0.0228\n",
      "Epoch 12/15\n",
      "31/31 [==============================] - 7s 233ms/step - loss: 0.0249 - val_loss: 0.0184\n",
      "Epoch 13/15\n",
      "31/31 [==============================] - 7s 222ms/step - loss: 0.0259 - val_loss: 0.0180\n",
      "Epoch 14/15\n",
      "31/31 [==============================] - 7s 226ms/step - loss: 0.0245 - val_loss: 0.0179\n",
      "Epoch 15/15\n",
      "31/31 [==============================] - 7s 234ms/step - loss: 0.0238 - val_loss: 0.0330\n"
     ]
    }
   ],
   "source": [
    "# fit the model\n",
    "history = model.fit(train_X, train_y, epochs=15, batch_size=16, validation_split=0.1, verbose=1)"
   ]
  },
  {
   "cell_type": "code",
   "execution_count": 25,
   "id": "9yqmdQXsmcfH",
   "metadata": {
    "colab": {
     "base_uri": "https://localhost:8080/",
     "height": 265
    },
    "executionInfo": {
     "elapsed": 428,
     "status": "ok",
     "timestamp": 1625317320749,
     "user": {
      "displayName": "DAVID RESTREPO",
      "photoUrl": "https://lh3.googleusercontent.com/a-/AOh14GgqxItBQRJ0dDzIdCZM0BMuA0KeTKTlKRNGMApY=s64",
      "userId": "09638303782015555303"
     },
     "user_tz": 300
    },
    "id": "9yqmdQXsmcfH",
    "outputId": "914fb0c4-eb4f-4dd6-9ab7-796cff5dc4a7"
   },
   "outputs": [
    {
     "data": {
      "image/png": "[encoded data removed]",
      "text/plain": [
       "<Figure size 432x288 with 1 Axes>"
      ]
     },
     "metadata": {
      "needs_background": "light"
     },
     "output_type": "display_data"
    }
   ],
   "source": [
    "from matplotlib import pyplot\n",
    "# plot history\n",
    "pyplot.plot(history.history['loss'], label='train')\n",
    "pyplot.plot(history.history['val_loss'], label='test')\n",
    "pyplot.legend()\n",
    "pyplot.show()"
   ]
  },
  {
   "cell_type": "code",
   "execution_count": 26,
   "id": "C21mhuRullNL",
   "metadata": {
    "executionInfo": {
     "elapsed": 7,
     "status": "ok",
     "timestamp": 1625317320750,
     "user": {
      "displayName": "DAVID RESTREPO",
      "photoUrl": "https://lh3.googleusercontent.com/a-/AOh14GgqxItBQRJ0dDzIdCZM0BMuA0KeTKTlKRNGMApY=s64",
      "userId": "09638303782015555303"
     },
     "user_tz": 300
    },
    "id": "C21mhuRullNL"
   },
   "outputs": [
    {
     "name": "stderr",
     "output_type": "stream",
     "text": [
      "2021-09-10 12:50:04.123022: I tensorflow/core/grappler/optimizers/custom_graph_optimizer_registry.cc:112] Plugin optimizer for device_type GPU is enabled.\n"
     ]
    }
   ],
   "source": [
    "from math import sqrt\n",
    "from numpy import concatenate\n",
    "\n",
    "# make a prediction\n",
    "yhat = model.predict(test_X)"
   ]
  },
  {
   "cell_type": "code",
   "execution_count": 27,
   "id": "TtordubT422m",
   "metadata": {
    "colab": {
     "base_uri": "https://localhost:8080/"
    },
    "executionInfo": {
     "elapsed": 12,
     "status": "ok",
     "timestamp": 1625317321210,
     "user": {
      "displayName": "DAVID RESTREPO",
      "photoUrl": "https://lh3.googleusercontent.com/a-/AOh14GgqxItBQRJ0dDzIdCZM0BMuA0KeTKTlKRNGMApY=s64",
      "userId": "09638303782015555303"
     },
     "user_tz": 300
    },
    "id": "TtordubT422m",
    "outputId": "26ee2559-6d1b-445b-fa85-21b224c2ad43"
   },
   "outputs": [
    {
     "data": {
      "text/plain": [
       "(61, 1)"
      ]
     },
     "execution_count": 27,
     "metadata": {},
     "output_type": "execute_result"
    }
   ],
   "source": [
    "yhat.shape"
   ]
  },
  {
   "cell_type": "code",
   "execution_count": 28,
   "id": "5Ozj32Jwq4VL",
   "metadata": {
    "executionInfo": {
     "elapsed": 11,
     "status": "ok",
     "timestamp": 1625317321211,
     "user": {
      "displayName": "DAVID RESTREPO",
      "photoUrl": "https://lh3.googleusercontent.com/a-/AOh14GgqxItBQRJ0dDzIdCZM0BMuA0KeTKTlKRNGMApY=s64",
      "userId": "09638303782015555303"
     },
     "user_tz": 300
    },
    "id": "5Ozj32Jwq4VL"
   },
   "outputs": [],
   "source": [
    "# Convert test data to 2D \n",
    "test_X = test_X.reshape((test_X.shape[0], weeks*n_features))\n",
    "\n",
    "# invert scaling for forecast\n",
    "# As we said Scaler needs 3 columns so we can take those columns from test data and take again the predictions\n",
    "# Concatenate last 2 columns of test data with predicted data (yhat)\n",
    "inv_yhat = concatenate((test_X[:, -(n_features-1):], yhat), axis=1)\n",
    "# Inverse Scaler\n",
    "inv_yhat = scaler.inverse_transform(inv_yhat)\n",
    "# Take predicted data scaled to original Dengue cases\n",
    "inv_yhat = inv_yhat[:,-1]\n",
    "\n",
    "# invert scaling for actual\n",
    "# Same process than for predicted data (yhat)\n",
    "test_y = test_y.reshape((len(test_y), 1))\n",
    "inv_y = concatenate((test_X[:, -(n_features-1):], test_y), axis=1)\n",
    "inv_y = scaler.inverse_transform(inv_y)\n",
    "inv_y = inv_y[:,-1]"
   ]
  },
  {
   "cell_type": "code",
   "execution_count": 29,
   "id": "TdDRHwvNllQR",
   "metadata": {
    "colab": {
     "base_uri": "https://localhost:8080/"
    },
    "executionInfo": {
     "elapsed": 11,
     "status": "ok",
     "timestamp": 1625317321211,
     "user": {
      "displayName": "DAVID RESTREPO",
      "photoUrl": "https://lh3.googleusercontent.com/a-/AOh14GgqxItBQRJ0dDzIdCZM0BMuA0KeTKTlKRNGMApY=s64",
      "userId": "09638303782015555303"
     },
     "user_tz": 300
    },
    "id": "TdDRHwvNllQR",
    "outputId": "a09cd4cf-adfd-4adf-e797-a22eaeca1782"
   },
   "outputs": [
    {
     "name": "stdout",
     "output_type": "stream",
     "text": [
      "Test MAE: 11.514\n"
     ]
    }
   ],
   "source": [
    "from sklearn.metrics import  mean_absolute_error\n",
    "\n",
    "# calculate MAE\n",
    "mae = mean_absolute_error(inv_y, inv_yhat)\n",
    "print('Test MAE: %.3f' % mae)"
   ]
  },
  {
   "cell_type": "markdown",
   "id": "PJzx3p9psAqW",
   "metadata": {
    "id": "PJzx3p9psAqW"
   },
   "source": [
    "#### Plot predicted vs actual dengue cases"
   ]
  },
  {
   "cell_type": "code",
   "execution_count": 30,
   "id": "nPOiCVoxsr-1",
   "metadata": {
    "colab": {
     "base_uri": "https://localhost:8080/",
     "height": 294
    },
    "executionInfo": {
     "elapsed": 9,
     "status": "ok",
     "timestamp": 1625317321212,
     "user": {
      "displayName": "DAVID RESTREPO",
      "photoUrl": "https://lh3.googleusercontent.com/a-/AOh14GgqxItBQRJ0dDzIdCZM0BMuA0KeTKTlKRNGMApY=s64",
      "userId": "09638303782015555303"
     },
     "user_tz": 300
    },
    "id": "nPOiCVoxsr-1",
    "outputId": "0f7a4019-9838-4a92-bdbd-ca2c3ae27858"
   },
   "outputs": [
    {
     "data": {
      "image/png": "[encoded data removed]",
      "text/plain": [
       "<Figure size 432x288 with 1 Axes>"
      ]
     },
     "metadata": {
      "needs_background": "light"
     },
     "output_type": "display_data"
    }
   ],
   "source": [
    "data_predict = inv_yhat  ## predicted target  cases\n",
    "dataY_plot = inv_y  ##  real test-target cases\n",
    "\n",
    "data_predict = data_predict.reshape(len(data_predict), 1)\n",
    "dataY_plot = dataY_plot.reshape(len(dataY_plot), 1)\n",
    "\n",
    "import matplotlib.pyplot as plt\n",
    "\n",
    "plt.plot(dataY_plot, label = 'actual')\n",
    "plt.plot(data_predict, label = 'predicted')\n",
    "plt.legend(loc=\"upper left\")\n",
    "\n",
    "plt.suptitle('Time-Series Prediction')\n",
    "plt.show()"
   ]
  },
  {
   "cell_type": "code",
   "execution_count": null,
   "id": "kMiD5Vp27n5W",
   "metadata": {
    "executionInfo": {
     "elapsed": 8,
     "status": "ok",
     "timestamp": 1625317321212,
     "user": {
      "displayName": "DAVID RESTREPO",
      "photoUrl": "https://lh3.googleusercontent.com/a-/AOh14GgqxItBQRJ0dDzIdCZM0BMuA0KeTKTlKRNGMApY=s64",
      "userId": "09638303782015555303"
     },
     "user_tz": 300
    },
    "id": "kMiD5Vp27n5W"
   },
   "outputs": [],
   "source": []
  },
  {
   "cell_type": "markdown",
   "id": "9R-Zl5OgLo_h",
   "metadata": {
    "id": "9R-Zl5OgLo_h"
   },
   "source": [
    "<ol>\n",
    "  <li> <a href=\"https://towardsdatascience.com/predictive-analytics-time-series-forecasting-with-gru-and-bilstm-in-tensorflow-87588c852915\">Predictive Analytics: Time-Series Forecasting with GRU and BiLSTM in TensorFlow</a></li>\n",
    "  <li><a href=\"https://machinelearningmastery.com/multivariate-time-series-forecasting-lstms-keras/\">Multivariate Time Series Forecasting with LSTMs in Keras</a></li>\n",
    "</ol>"
   ]
  },
  {
   "cell_type": "code",
   "execution_count": null,
   "id": "LA6ELSVJLpp0",
   "metadata": {
    "executionInfo": {
     "elapsed": 7,
     "status": "ok",
     "timestamp": 1625317321212,
     "user": {
      "displayName": "DAVID RESTREPO",
      "photoUrl": "https://lh3.googleusercontent.com/a-/AOh14GgqxItBQRJ0dDzIdCZM0BMuA0KeTKTlKRNGMApY=s64",
      "userId": "09638303782015555303"
     },
     "user_tz": 300
    },
    "id": "LA6ELSVJLpp0"
   },
   "outputs": [],
   "source": []
  },
  {
   "cell_type": "code",
   "execution_count": null,
   "id": "d72b22a3",
   "metadata": {},
   "outputs": [],
   "source": []
  }
 ],
 "metadata": {
  "colab": {
   "collapsed_sections": [],
   "name": "LSTM_TensorFlow_WeeklyPrecipitation.ipynb",
   "provenance": [
    {
     "file_id": "1yhwDjCPk8baHY-Odebdo8C1jIJVI5Uny",
     "timestamp": 1625026832717
    }
   ]
  },
  "kernelspec": {
   "display_name": "Python 3 (ipykernel)",
   "language": "python",
   "name": "python3"
  },
  "language_info": {
   "codemirror_mode": {
    "name": "ipython",
    "version": 3
   },
   "file_extension": ".py",
   "mimetype": "text/x-python",
   "name": "python",
   "nbconvert_exporter": "python",
   "pygments_lexer": "ipython3",
   "version": "3.9.6"
  }
 },
 "nbformat": 4,
 "nbformat_minor": 5
}
